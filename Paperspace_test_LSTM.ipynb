{
 "cells": [
  {
   "cell_type": "code",
   "execution_count": 1,
   "metadata": {
    "colab": {
     "base_uri": "https://localhost:8080/",
     "height": 36
    },
    "colab_type": "code",
    "id": "NrYMT6Zw-vKD",
    "outputId": "5741f5df-1aa2-49f4-f324-0e14673ca690"
   },
   "outputs": [],
   "source": [
    "import tensorflow as tf\n",
    "import pandas as pd\n",
    "import numpy as np\n",
    "import sklearn\n",
    "from tensorflow import keras"
   ]
  },
  {
   "cell_type": "code",
   "execution_count": 2,
   "metadata": {
    "colab": {
     "base_uri": "https://localhost:8080/",
     "height": 557
    },
    "colab_type": "code",
    "id": "GkfhH6r5B4m2",
    "outputId": "3918eddd-4bac-4d6f-f69c-20c7bd4d14e2"
   },
   "outputs": [
    {
     "data": {
      "text/html": [
       "<div>\n",
       "<style scoped>\n",
       "    .dataframe tbody tr th:only-of-type {\n",
       "        vertical-align: middle;\n",
       "    }\n",
       "\n",
       "    .dataframe tbody tr th {\n",
       "        vertical-align: top;\n",
       "    }\n",
       "\n",
       "    .dataframe thead th {\n",
       "        text-align: right;\n",
       "    }\n",
       "</style>\n",
       "<table border=\"1\" class=\"dataframe\">\n",
       "  <thead>\n",
       "    <tr style=\"text-align: right;\">\n",
       "      <th></th>\n",
       "      <th>campaign_label</th>\n",
       "      <th>date</th>\n",
       "      <th>source_medium</th>\n",
       "      <th>campaign</th>\n",
       "      <th>ad_group</th>\n",
       "      <th>ad_matched_query</th>\n",
       "      <th>ad_cost</th>\n",
       "      <th>impressions</th>\n",
       "      <th>clicks</th>\n",
       "      <th>users</th>\n",
       "      <th>new_users</th>\n",
       "      <th>sessions</th>\n",
       "      <th>bounces</th>\n",
       "      <th>created_accounts</th>\n",
       "      <th>transactions</th>\n",
       "      <th>transaction_revenue</th>\n",
       "      <th>created_transactions</th>\n",
       "    </tr>\n",
       "  </thead>\n",
       "  <tbody>\n",
       "    <tr>\n",
       "      <th>0</th>\n",
       "      <td>brand</td>\n",
       "      <td>2017-03-07</td>\n",
       "      <td>google / cpc</td>\n",
       "      <td>Brand Terms</td>\n",
       "      <td>Paperspace For Teams</td>\n",
       "      <td>paper space</td>\n",
       "      <td>0.31</td>\n",
       "      <td>4</td>\n",
       "      <td>1</td>\n",
       "      <td>1</td>\n",
       "      <td>1</td>\n",
       "      <td>1</td>\n",
       "      <td>0</td>\n",
       "      <td>0</td>\n",
       "      <td>0</td>\n",
       "      <td>0.0</td>\n",
       "      <td>0</td>\n",
       "    </tr>\n",
       "    <tr>\n",
       "      <th>1</th>\n",
       "      <td>brand</td>\n",
       "      <td>2017-03-07</td>\n",
       "      <td>google / cpc</td>\n",
       "      <td>Brand Terms</td>\n",
       "      <td>Paperspace For Teams</td>\n",
       "      <td>paperspace</td>\n",
       "      <td>1.06</td>\n",
       "      <td>28</td>\n",
       "      <td>5</td>\n",
       "      <td>4</td>\n",
       "      <td>3</td>\n",
       "      <td>4</td>\n",
       "      <td>2</td>\n",
       "      <td>0</td>\n",
       "      <td>0</td>\n",
       "      <td>0.0</td>\n",
       "      <td>0</td>\n",
       "    </tr>\n",
       "    <tr>\n",
       "      <th>2</th>\n",
       "      <td>brand</td>\n",
       "      <td>2017-03-08</td>\n",
       "      <td>google / cpc</td>\n",
       "      <td>Brand Terms</td>\n",
       "      <td>Paperspace For Teams</td>\n",
       "      <td>paperspace</td>\n",
       "      <td>0.94</td>\n",
       "      <td>24</td>\n",
       "      <td>3</td>\n",
       "      <td>1</td>\n",
       "      <td>0</td>\n",
       "      <td>1</td>\n",
       "      <td>0</td>\n",
       "      <td>0</td>\n",
       "      <td>0</td>\n",
       "      <td>0.0</td>\n",
       "      <td>0</td>\n",
       "    </tr>\n",
       "    <tr>\n",
       "      <th>3</th>\n",
       "      <td>brand</td>\n",
       "      <td>2017-03-09</td>\n",
       "      <td>google / cpc</td>\n",
       "      <td>Brand Terms</td>\n",
       "      <td>Paperspace For Teams</td>\n",
       "      <td>paperspace</td>\n",
       "      <td>1.70</td>\n",
       "      <td>50</td>\n",
       "      <td>4</td>\n",
       "      <td>2</td>\n",
       "      <td>2</td>\n",
       "      <td>2</td>\n",
       "      <td>1</td>\n",
       "      <td>0</td>\n",
       "      <td>0</td>\n",
       "      <td>0.0</td>\n",
       "      <td>0</td>\n",
       "    </tr>\n",
       "    <tr>\n",
       "      <th>4</th>\n",
       "      <td>brand</td>\n",
       "      <td>2017-03-10</td>\n",
       "      <td>google / cpc</td>\n",
       "      <td>Brand Terms</td>\n",
       "      <td>Paperspace For Teams</td>\n",
       "      <td>paperspace</td>\n",
       "      <td>4.57</td>\n",
       "      <td>49</td>\n",
       "      <td>7</td>\n",
       "      <td>5</td>\n",
       "      <td>4</td>\n",
       "      <td>9</td>\n",
       "      <td>0</td>\n",
       "      <td>1</td>\n",
       "      <td>1</td>\n",
       "      <td>6.0</td>\n",
       "      <td>2</td>\n",
       "    </tr>\n",
       "    <tr>\n",
       "      <th>5</th>\n",
       "      <td>brand</td>\n",
       "      <td>2017-03-11</td>\n",
       "      <td>google / cpc</td>\n",
       "      <td>Brand Terms</td>\n",
       "      <td>Paperspace For Teams</td>\n",
       "      <td>paperspace</td>\n",
       "      <td>1.22</td>\n",
       "      <td>14</td>\n",
       "      <td>2</td>\n",
       "      <td>3</td>\n",
       "      <td>2</td>\n",
       "      <td>7</td>\n",
       "      <td>0</td>\n",
       "      <td>0</td>\n",
       "      <td>0</td>\n",
       "      <td>0.0</td>\n",
       "      <td>0</td>\n",
       "    </tr>\n",
       "    <tr>\n",
       "      <th>6</th>\n",
       "      <td>brand</td>\n",
       "      <td>2017-03-12</td>\n",
       "      <td>google / cpc</td>\n",
       "      <td>Brand Terms</td>\n",
       "      <td>Paperspace For Teams</td>\n",
       "      <td>paperspace</td>\n",
       "      <td>1.62</td>\n",
       "      <td>28</td>\n",
       "      <td>2</td>\n",
       "      <td>4</td>\n",
       "      <td>1</td>\n",
       "      <td>7</td>\n",
       "      <td>4</td>\n",
       "      <td>0</td>\n",
       "      <td>0</td>\n",
       "      <td>0.0</td>\n",
       "      <td>0</td>\n",
       "    </tr>\n",
       "    <tr>\n",
       "      <th>7</th>\n",
       "      <td>brand</td>\n",
       "      <td>2017-03-13</td>\n",
       "      <td>google / cpc</td>\n",
       "      <td>Brand Terms</td>\n",
       "      <td>Paperspace For Teams</td>\n",
       "      <td>paperspace</td>\n",
       "      <td>6.81</td>\n",
       "      <td>24</td>\n",
       "      <td>9</td>\n",
       "      <td>6</td>\n",
       "      <td>2</td>\n",
       "      <td>9</td>\n",
       "      <td>0</td>\n",
       "      <td>0</td>\n",
       "      <td>0</td>\n",
       "      <td>0.0</td>\n",
       "      <td>0</td>\n",
       "    </tr>\n",
       "    <tr>\n",
       "      <th>8</th>\n",
       "      <td>brand</td>\n",
       "      <td>2017-03-14</td>\n",
       "      <td>google / cpc</td>\n",
       "      <td>Brand Terms</td>\n",
       "      <td>Paperspace For Teams</td>\n",
       "      <td>paperspace</td>\n",
       "      <td>5.56</td>\n",
       "      <td>37</td>\n",
       "      <td>8</td>\n",
       "      <td>7</td>\n",
       "      <td>3</td>\n",
       "      <td>7</td>\n",
       "      <td>4</td>\n",
       "      <td>0</td>\n",
       "      <td>0</td>\n",
       "      <td>0.0</td>\n",
       "      <td>0</td>\n",
       "    </tr>\n",
       "    <tr>\n",
       "      <th>9</th>\n",
       "      <td>brand</td>\n",
       "      <td>2017-03-15</td>\n",
       "      <td>google / cpc</td>\n",
       "      <td>Brand Terms</td>\n",
       "      <td>Paperspace For Teams</td>\n",
       "      <td>paperspace</td>\n",
       "      <td>2.51</td>\n",
       "      <td>48</td>\n",
       "      <td>3</td>\n",
       "      <td>5</td>\n",
       "      <td>4</td>\n",
       "      <td>7</td>\n",
       "      <td>1</td>\n",
       "      <td>1</td>\n",
       "      <td>1</td>\n",
       "      <td>15.0</td>\n",
       "      <td>2</td>\n",
       "    </tr>\n",
       "  </tbody>\n",
       "</table>\n",
       "</div>"
      ],
      "text/plain": [
       "  campaign_label        date source_medium     campaign              ad_group  \\\n",
       "0          brand  2017-03-07  google / cpc  Brand Terms  Paperspace For Teams   \n",
       "1          brand  2017-03-07  google / cpc  Brand Terms  Paperspace For Teams   \n",
       "2          brand  2017-03-08  google / cpc  Brand Terms  Paperspace For Teams   \n",
       "3          brand  2017-03-09  google / cpc  Brand Terms  Paperspace For Teams   \n",
       "4          brand  2017-03-10  google / cpc  Brand Terms  Paperspace For Teams   \n",
       "5          brand  2017-03-11  google / cpc  Brand Terms  Paperspace For Teams   \n",
       "6          brand  2017-03-12  google / cpc  Brand Terms  Paperspace For Teams   \n",
       "7          brand  2017-03-13  google / cpc  Brand Terms  Paperspace For Teams   \n",
       "8          brand  2017-03-14  google / cpc  Brand Terms  Paperspace For Teams   \n",
       "9          brand  2017-03-15  google / cpc  Brand Terms  Paperspace For Teams   \n",
       "\n",
       "  ad_matched_query  ad_cost  impressions  clicks  users  new_users  sessions  \\\n",
       "0      paper space     0.31            4       1      1          1         1   \n",
       "1       paperspace     1.06           28       5      4          3         4   \n",
       "2       paperspace     0.94           24       3      1          0         1   \n",
       "3       paperspace     1.70           50       4      2          2         2   \n",
       "4       paperspace     4.57           49       7      5          4         9   \n",
       "5       paperspace     1.22           14       2      3          2         7   \n",
       "6       paperspace     1.62           28       2      4          1         7   \n",
       "7       paperspace     6.81           24       9      6          2         9   \n",
       "8       paperspace     5.56           37       8      7          3         7   \n",
       "9       paperspace     2.51           48       3      5          4         7   \n",
       "\n",
       "   bounces  created_accounts  transactions  transaction_revenue  \\\n",
       "0        0                 0             0                  0.0   \n",
       "1        2                 0             0                  0.0   \n",
       "2        0                 0             0                  0.0   \n",
       "3        1                 0             0                  0.0   \n",
       "4        0                 1             1                  6.0   \n",
       "5        0                 0             0                  0.0   \n",
       "6        4                 0             0                  0.0   \n",
       "7        0                 0             0                  0.0   \n",
       "8        4                 0             0                  0.0   \n",
       "9        1                 1             1                 15.0   \n",
       "\n",
       "   created_transactions  \n",
       "0                     0  \n",
       "1                     0  \n",
       "2                     0  \n",
       "3                     0  \n",
       "4                     2  \n",
       "5                     0  \n",
       "6                     0  \n",
       "7                     0  \n",
       "8                     0  \n",
       "9                     2  "
      ]
     },
     "execution_count": 2,
     "metadata": {},
     "output_type": "execute_result"
    }
   ],
   "source": [
    "df_BYDATE = pd.read_csv('/storage/data/ad_matched_queries_20190831__by_date.csv')\n",
    "df_BYDATE['created_transactions'] = df_BYDATE['created_accounts'] + df_BYDATE['transactions']\n",
    "df_BYDATE.head(10)\n",
    "\n",
    "#df_AGG = pd.read_csv('ad_matched_queries_AGG.csv')\n",
    "#df_AGG"
   ]
  },
  {
   "cell_type": "code",
   "execution_count": null,
   "metadata": {
    "colab": {},
    "colab_type": "code",
    "id": "zruxbOyEG3Dn"
   },
   "outputs": [],
   "source": [
    "## keywords dataset\n",
    "#df_keywords = pd.read_csv('Search keyword report 20190916.csv')\n",
    "#df_keywords"
   ]
  },
  {
   "cell_type": "code",
   "execution_count": null,
   "metadata": {
    "colab": {},
    "colab_type": "code",
    "id": "7OjtkS_2ckNX"
   },
   "outputs": [],
   "source": [
    "#df_BYDATE['transaction/clicks'] = df_BYDATE['transactions'] / df_BYDATE['clicks']"
   ]
  },
  {
   "cell_type": "code",
   "execution_count": 3,
   "metadata": {
    "colab": {
     "base_uri": "https://localhost:8080/",
     "height": 370
    },
    "colab_type": "code",
    "id": "83Ly_zwXcMQW",
    "outputId": "1c239830-364f-49bd-ff20-601cc2cd79bc"
   },
   "outputs": [
    {
     "data": {
      "text/plain": [
       "0     173321\n",
       "1      12399\n",
       "2       2010\n",
       "3        603\n",
       "4        285\n",
       "5        167\n",
       "6         62\n",
       "7         41\n",
       "8         22\n",
       "9         10\n",
       "12         7\n",
       "10         6\n",
       "18         2\n",
       "11         2\n",
       "17         2\n",
       "13         1\n",
       "15         1\n",
       "16         1\n",
       "20         1\n",
       "Name: created_transactions, dtype: int64"
      ]
     },
     "execution_count": 3,
     "metadata": {},
     "output_type": "execute_result"
    }
   ],
   "source": [
    "df_BYDATE['created_transactions'].value_counts()"
   ]
  },
  {
   "cell_type": "code",
   "execution_count": 4,
   "metadata": {
    "colab": {
     "base_uri": "https://localhost:8080/",
     "height": 73
    },
    "colab_type": "code",
    "id": "6UKaRVvIgNOG",
    "outputId": "3d82c9fb-0b8a-48a4-b871-b443db31faa0"
   },
   "outputs": [],
   "source": [
    "# Turn into binary variable\n",
    "#df_BYDATE['create_account1'] = np.where(df_BYDATE[\"created_accounts\"] > 0, 1, 0)\n",
    "#df_BYDATE['create_account1'].value_counts()"
   ]
  },
  {
   "cell_type": "code",
   "execution_count": null,
   "metadata": {},
   "outputs": [],
   "source": [
    "#query_train, query_val, created_train, created_val = train_test_split(query_train, created_train, test_size=0.2, random_state=1)\n",
    "\n",
    "# when do to tokenization? for bag of words, create matrix ASAP--preprocess everything before traintestsplit\n",
    "# merge transaction and created account\n",
    "# impressions, clicks"
   ]
  },
  {
   "cell_type": "code",
   "execution_count": 5,
   "metadata": {
    "colab": {
     "base_uri": "https://localhost:8080/",
     "height": 130
    },
    "colab_type": "code",
    "id": "Z0UtIjDyVPNF",
    "outputId": "4e36c2c9-fef3-4ae8-9591-beb21d7aeb57"
   },
   "outputs": [],
   "source": [
    "from tensorflow.keras.preprocessing.text import Tokenizer\n",
    "\n",
    "t = Tokenizer(num_words=20000)\n",
    "t.fit_on_texts(df_BYDATE['ad_matched_query'])\n",
    "\n",
    "#print(t.word_counts)\n",
    "#print(t.document_count)\n",
    "#print(t.word_index)\n",
    "#print(t.word_docs)"
   ]
  },
  {
   "cell_type": "code",
   "execution_count": 6,
   "metadata": {
    "colab": {
     "base_uri": "https://localhost:8080/",
     "height": 1000
    },
    "colab_type": "code",
    "id": "cCeXqq9Mh_MJ",
    "outputId": "bf8c47c7-d802-4126-f504-facdf7ee6e12"
   },
   "outputs": [],
   "source": [
    "sequenced_queries = t.texts_to_sequences(df_BYDATE['ad_matched_query'])\n",
    "#sequenced_queries"
   ]
  },
  {
   "cell_type": "code",
   "execution_count": null,
   "metadata": {
    "colab": {},
    "colab_type": "code",
    "id": "i6_1nZ53EkJY"
   },
   "outputs": [],
   "source": [
    "#encoded_queries = t.texts_to_matrix(df_BYDATE['ad_matched_query'], mode='binary')\n",
    "#print(encoded_queries)"
   ]
  },
  {
   "cell_type": "code",
   "execution_count": 7,
   "metadata": {
    "colab": {
     "base_uri": "https://localhost:8080/",
     "height": 1000
    },
    "colab_type": "code",
    "id": "UBafGyYZNO_n",
    "outputId": "f7f203fb-baae-4f9a-f065-8e477da9813c"
   },
   "outputs": [
    {
     "data": {
      "text/plain": [
       "(188943, 29)"
      ]
     },
     "execution_count": 7,
     "metadata": {},
     "output_type": "execute_result"
    }
   ],
   "source": [
    "from keras_preprocessing import sequence\n",
    "\n",
    "max_length = len(max(sequenced_queries, key=len))\n",
    "\n",
    "padded_sequences = sequence.pad_sequences(sequenced_queries, maxlen=max_length)\n",
    "\n",
    "padded_sequences.shape\n",
    "#t.word_index"
   ]
  },
  {
   "cell_type": "code",
   "execution_count": 8,
   "metadata": {},
   "outputs": [
    {
     "data": {
      "text/plain": [
       "(188943, 19)"
      ]
     },
     "execution_count": 8,
     "metadata": {},
     "output_type": "execute_result"
    }
   ],
   "source": [
    "Y = pd.get_dummies(df_BYDATE['created_transactions']).values\n",
    "Y.shape"
   ]
  },
  {
   "cell_type": "code",
   "execution_count": 12,
   "metadata": {},
   "outputs": [
    {
     "name": "stdout",
     "output_type": "stream",
     "text": [
      "(151154, 29) (151154, 19)\n"
     ]
    }
   ],
   "source": [
    "from sklearn.model_selection import train_test_split\n",
    "\n",
    "X_train, X_test, Y_train, Y_test = train_test_split(padded_sequences, Y,test_size=0.2, random_state=42)\n",
    "print(X_train.shape,Y_train.shape)\n",
    "#print(X_test.shape,Y_test.shape)"
   ]
  },
  {
   "cell_type": "code",
   "execution_count": 13,
   "metadata": {},
   "outputs": [
    {
     "name": "stdout",
     "output_type": "stream",
     "text": [
      "WARNING:tensorflow:From /opt/conda/envs/insightfall2019_sklearn/lib/python3.7/site-packages/tensorflow/python/ops/resource_variable_ops.py:435: colocate_with (from tensorflow.python.framework.ops) is deprecated and will be removed in a future version.\n",
      "Instructions for updating:\n",
      "Colocations handled automatically by placer.\n",
      "WARNING:tensorflow:From /opt/conda/envs/insightfall2019_sklearn/lib/python3.7/site-packages/tensorflow/python/keras/layers/core.py:143: calling dropout (from tensorflow.python.ops.nn_ops) with keep_prob is deprecated and will be removed in a future version.\n",
      "Instructions for updating:\n",
      "Please use `rate` instead of `keep_prob`. Rate should be set to `rate = 1 - keep_prob`.\n",
      "_________________________________________________________________\n",
      "Layer (type)                 Output Shape              Param #   \n",
      "=================================================================\n",
      "embedding (Embedding)        (None, 29, 100)           1000000   \n",
      "_________________________________________________________________\n",
      "spatial_dropout1d (SpatialDr (None, 29, 100)           0         \n",
      "_________________________________________________________________\n",
      "lstm (LSTM)                  (None, 100)               80400     \n",
      "_________________________________________________________________\n",
      "dense (Dense)                (None, 19)                1919      \n",
      "=================================================================\n",
      "Total params: 1,082,319\n",
      "Trainable params: 1,082,319\n",
      "Non-trainable params: 0\n",
      "_________________________________________________________________\n",
      "None\n"
     ]
    }
   ],
   "source": [
    "from tensorflow.keras.models import Sequential\n",
    "from tensorflow.keras.layers import Dense, Embedding, LSTM, SpatialDropout1D\n",
    "\n",
    "# The maximum number of words to be used.\n",
    "MAX_NB_WORDS = 10000\n",
    "# Max number of words in each complaint.\n",
    "MAX_SEQUENCE_LENGTH = 500\n",
    "# This is fixed.\n",
    "EMBEDDING_DIM = 100\n",
    "\n",
    "model = Sequential()\n",
    "model.add(Embedding(MAX_NB_WORDS, EMBEDDING_DIM, input_length=padded_sequences.shape[1]))\n",
    "model.add(SpatialDropout1D(0.2))\n",
    "model.add(LSTM(100, dropout=0.2, recurrent_dropout=0.2))\n",
    "model.add(Dense(19, activation='softmax'))\n",
    "model.compile(loss='categorical_crossentropy', optimizer='adam', metrics=['accuracy'])\n",
    "print(model.summary())"
   ]
  },
  {
   "cell_type": "code",
   "execution_count": 14,
   "metadata": {},
   "outputs": [
    {
     "name": "stdout",
     "output_type": "stream",
     "text": [
      "Train on 136038 samples, validate on 15116 samples\n",
      "WARNING:tensorflow:From /opt/conda/envs/insightfall2019_sklearn/lib/python3.7/site-packages/tensorflow/python/ops/math_ops.py:3066: to_int32 (from tensorflow.python.ops.math_ops) is deprecated and will be removed in a future version.\n",
      "Instructions for updating:\n",
      "Use tf.cast instead.\n",
      "Epoch 1/10\n",
      "136038/136038 [==============================] - 327s 2ms/sample - loss: 0.3303 - acc: 0.9175 - val_loss: 0.3157 - val_acc: 0.9153\n",
      "Epoch 2/10\n",
      "136038/136038 [==============================] - 324s 2ms/sample - loss: 0.3051 - acc: 0.9180 - val_loss: 0.3063 - val_acc: 0.9153\n",
      "Epoch 3/10\n",
      "136038/136038 [==============================] - 323s 2ms/sample - loss: 0.3003 - acc: 0.9180 - val_loss: 0.3053 - val_acc: 0.9153\n",
      "Epoch 4/10\n",
      "136038/136038 [==============================] - 324s 2ms/sample - loss: 0.2967 - acc: 0.9180 - val_loss: 0.3038 - val_acc: 0.9153\n",
      "Epoch 5/10\n",
      "136038/136038 [==============================] - 333s 2ms/sample - loss: 0.2940 - acc: 0.9181 - val_loss: 0.3018 - val_acc: 0.9153\n",
      "Epoch 6/10\n",
      "136038/136038 [==============================] - 324s 2ms/sample - loss: 0.2918 - acc: 0.9181 - val_loss: 0.3037 - val_acc: 0.9153\n",
      "Epoch 7/10\n",
      "136038/136038 [==============================] - 324s 2ms/sample - loss: 0.2896 - acc: 0.9184 - val_loss: 0.3034 - val_acc: 0.9150\n",
      "Epoch 8/10\n",
      "136038/136038 [==============================] - 323s 2ms/sample - loss: 0.2881 - acc: 0.9188 - val_loss: 0.3059 - val_acc: 0.9150\n"
     ]
    }
   ],
   "source": [
    "from tensorflow.keras.callbacks import EarlyStopping\n",
    "\n",
    "epochs = 10\n",
    "batch_size = 64\n",
    "\n",
    "history = model.fit(X_train, Y_train, epochs=epochs, batch_size=batch_size,validation_split=0.1,callbacks=[EarlyStopping(monitor='val_loss', patience=3, min_delta=0.0001)])"
   ]
  },
  {
   "cell_type": "code",
   "execution_count": 15,
   "metadata": {},
   "outputs": [
    {
     "name": "stdout",
     "output_type": "stream",
     "text": [
      "37789/37789 [==============================] - 44s 1ms/sample - loss: 0.3101 - acc: 0.9152\n",
      "Test set\n",
      "  Loss: 0.310\n",
      "  Accuracy: 0.915\n"
     ]
    }
   ],
   "source": [
    "accr = model.evaluate(X_test,Y_test)\n",
    "print('Test set\\n  Loss: {:0.3f}\\n  Accuracy: {:0.3f}'.format(accr[0],accr[1]))"
   ]
  },
  {
   "cell_type": "code",
   "execution_count": 17,
   "metadata": {
    "colab": {
     "base_uri": "https://localhost:8080/",
     "height": 36
    },
    "colab_type": "code",
    "id": "rcwChIEmFATH",
    "outputId": "1af5bcec-92f1-4261-ce79-19165478054e"
   },
   "outputs": [
    {
     "data": {
      "image/png": "[encoded data removed]",
      "text/plain": [
       "<Figure size 432x288 with 1 Axes>"
      ]
     },
     "metadata": {
      "needs_background": "light"
     },
     "output_type": "display_data"
    }
   ],
   "source": [
    "import matplotlib.pyplot as plt\n",
    "\n",
    "plt.title('Loss')\n",
    "plt.plot(history.history['loss'], label='train')\n",
    "plt.plot(history.history['val_loss'], label='test')\n",
    "plt.legend()\n",
    "plt.show()\n"
   ]
  },
  {
   "cell_type": "code",
   "execution_count": 18,
   "metadata": {
    "colab": {
     "base_uri": "https://localhost:8080/",
     "height": 54
    },
    "colab_type": "code",
    "id": "kO6dUbSfoP7P",
    "outputId": "7667415d-51b4-4837-8899-33d7e8bdc217"
   },
   "outputs": [
    {
     "data": {
      "image/png": "[encoded data removed]",
      "text/plain": [
       "<Figure size 432x288 with 1 Axes>"
      ]
     },
     "metadata": {
      "needs_background": "light"
     },
     "output_type": "display_data"
    }
   ],
   "source": [
    "plt.title('Accuracy')\n",
    "plt.plot(history.history['acc'], label='train')\n",
    "plt.plot(history.history['val_acc'], label='test')\n",
    "plt.legend()\n",
    "plt.show();"
   ]
  },
  {
   "cell_type": "code",
   "execution_count": 19,
   "metadata": {},
   "outputs": [
    {
     "name": "stdout",
     "output_type": "stream",
     "text": [
      "[[9.5373094e-01 4.4330407e-02 1.8797070e-03 5.5888639e-05 2.0284992e-06\n",
      "  1.0293434e-06 4.9809832e-09 8.3492333e-09 7.4397065e-11 1.9262517e-11\n",
      "  8.2270217e-09 6.6104995e-12 3.5796637e-09 1.3491934e-10 1.7914850e-08\n",
      "  2.3500993e-10 4.5926658e-08 7.0340054e-09 5.4016572e-11]] 173321\n"
     ]
    }
   ],
   "source": [
    "new_query = ['Paperspace windows GPU']\n",
    "seq = t.texts_to_sequences(new_query)\n",
    "padded = sequence.pad_sequences(seq, maxlen=29)\n",
    "pred = model.predict(padded)\n",
    "labels = df_BYDATE['created_transactions'].value_counts()\n",
    "print(pred, labels[np.argmax(pred)])"
   ]
  }
 ],
 "metadata": {
  "accelerator": "GPU",
  "colab": {
   "machine_shape": "hm",
   "name": "Paperspace test",
   "provenance": []
  },
  "kernelspec": {
   "display_name": "Python [conda env:insightfall2019_sklearn]",
   "language": "python",
   "name": "conda-env-insightfall2019_sklearn-py"
  },
  "language_info": {
   "codemirror_mode": {
    "name": "ipython",
    "version": 3
   },
   "file_extension": ".py",
   "mimetype": "text/x-python",
   "name": "python",
   "nbconvert_exporter": "python",
   "pygments_lexer": "ipython3",
   "version": "3.7.4"
  }
 },
 "nbformat": 4,
 "nbformat_minor": 4
}
